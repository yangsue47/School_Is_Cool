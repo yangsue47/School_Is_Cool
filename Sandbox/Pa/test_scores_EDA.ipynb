{
 "cells": [
  {
   "cell_type": "code",
   "execution_count": 1,
   "id": "887faae2-1587-438e-b62b-2d7fdf122c1e",
   "metadata": {},
   "outputs": [],
   "source": [
    "import pandas as pd\n",
    "from pathlib import Path\n",
    "import matplotlib.pyplot as plt\n",
    "from sklearn.linear_model import LinearRegression"
   ]
  },
  {
   "cell_type": "code",
   "execution_count": 5,
   "id": "133a7568-d68a-4d97-8d21-f4c78ba5992d",
   "metadata": {},
   "outputs": [
    {
     "data": {
      "text/html": [
       "<div>\n",
       "<style scoped>\n",
       "    .dataframe tbody tr th:only-of-type {\n",
       "        vertical-align: middle;\n",
       "    }\n",
       "\n",
       "    .dataframe tbody tr th {\n",
       "        vertical-align: top;\n",
       "    }\n",
       "\n",
       "    .dataframe thead th {\n",
       "        text-align: right;\n",
       "    }\n",
       "</style>\n",
       "<table border=\"1\" class=\"dataframe\">\n",
       "  <thead>\n",
       "    <tr style=\"text-align: right;\">\n",
       "      <th></th>\n",
       "      <th>school</th>\n",
       "      <th>school_setting</th>\n",
       "      <th>school_type</th>\n",
       "      <th>classroom</th>\n",
       "      <th>teaching_method</th>\n",
       "      <th>n_student</th>\n",
       "      <th>student_id</th>\n",
       "      <th>gender</th>\n",
       "      <th>lunch</th>\n",
       "      <th>pretest</th>\n",
       "      <th>posttest</th>\n",
       "    </tr>\n",
       "  </thead>\n",
       "  <tbody>\n",
       "    <tr>\n",
       "      <th>0</th>\n",
       "      <td>ANKYI</td>\n",
       "      <td>Urban</td>\n",
       "      <td>Non-public</td>\n",
       "      <td>6OL</td>\n",
       "      <td>Standard</td>\n",
       "      <td>20.0</td>\n",
       "      <td>2FHT3</td>\n",
       "      <td>Female</td>\n",
       "      <td>Does not qualify</td>\n",
       "      <td>62.0</td>\n",
       "      <td>72.0</td>\n",
       "    </tr>\n",
       "    <tr>\n",
       "      <th>1</th>\n",
       "      <td>ANKYI</td>\n",
       "      <td>Urban</td>\n",
       "      <td>Non-public</td>\n",
       "      <td>6OL</td>\n",
       "      <td>Standard</td>\n",
       "      <td>20.0</td>\n",
       "      <td>3JIVH</td>\n",
       "      <td>Female</td>\n",
       "      <td>Does not qualify</td>\n",
       "      <td>66.0</td>\n",
       "      <td>79.0</td>\n",
       "    </tr>\n",
       "    <tr>\n",
       "      <th>2</th>\n",
       "      <td>ANKYI</td>\n",
       "      <td>Urban</td>\n",
       "      <td>Non-public</td>\n",
       "      <td>6OL</td>\n",
       "      <td>Standard</td>\n",
       "      <td>20.0</td>\n",
       "      <td>3XOWE</td>\n",
       "      <td>Male</td>\n",
       "      <td>Does not qualify</td>\n",
       "      <td>64.0</td>\n",
       "      <td>76.0</td>\n",
       "    </tr>\n",
       "    <tr>\n",
       "      <th>3</th>\n",
       "      <td>ANKYI</td>\n",
       "      <td>Urban</td>\n",
       "      <td>Non-public</td>\n",
       "      <td>6OL</td>\n",
       "      <td>Standard</td>\n",
       "      <td>20.0</td>\n",
       "      <td>556O0</td>\n",
       "      <td>Female</td>\n",
       "      <td>Does not qualify</td>\n",
       "      <td>61.0</td>\n",
       "      <td>77.0</td>\n",
       "    </tr>\n",
       "    <tr>\n",
       "      <th>4</th>\n",
       "      <td>ANKYI</td>\n",
       "      <td>Urban</td>\n",
       "      <td>Non-public</td>\n",
       "      <td>6OL</td>\n",
       "      <td>Standard</td>\n",
       "      <td>20.0</td>\n",
       "      <td>74LOE</td>\n",
       "      <td>Male</td>\n",
       "      <td>Does not qualify</td>\n",
       "      <td>64.0</td>\n",
       "      <td>76.0</td>\n",
       "    </tr>\n",
       "  </tbody>\n",
       "</table>\n",
       "</div>"
      ],
      "text/plain": [
       "  school school_setting school_type classroom teaching_method  n_student  \\\n",
       "0  ANKYI          Urban  Non-public       6OL        Standard       20.0   \n",
       "1  ANKYI          Urban  Non-public       6OL        Standard       20.0   \n",
       "2  ANKYI          Urban  Non-public       6OL        Standard       20.0   \n",
       "3  ANKYI          Urban  Non-public       6OL        Standard       20.0   \n",
       "4  ANKYI          Urban  Non-public       6OL        Standard       20.0   \n",
       "\n",
       "  student_id  gender             lunch  pretest  posttest  \n",
       "0      2FHT3  Female  Does not qualify     62.0      72.0  \n",
       "1      3JIVH  Female  Does not qualify     66.0      79.0  \n",
       "2      3XOWE    Male  Does not qualify     64.0      76.0  \n",
       "3      556O0  Female  Does not qualify     61.0      77.0  \n",
       "4      74LOE    Male  Does not qualify     64.0      76.0  "
      ]
     },
     "execution_count": 5,
     "metadata": {},
     "output_type": "execute_result"
    }
   ],
   "source": [
    "test_df = pd.read_csv('../Sue/test_scores.csv')\n",
    "test_df.head()"
   ]
  },
  {
   "cell_type": "code",
   "execution_count": 8,
   "id": "c10dda5e-381b-4ded-a6e2-10e47bbdbf5c",
   "metadata": {},
   "outputs": [
    {
     "data": {
      "text/html": [
       "<div>\n",
       "<style scoped>\n",
       "    .dataframe tbody tr th:only-of-type {\n",
       "        vertical-align: middle;\n",
       "    }\n",
       "\n",
       "    .dataframe tbody tr th {\n",
       "        vertical-align: top;\n",
       "    }\n",
       "\n",
       "    .dataframe thead th {\n",
       "        text-align: right;\n",
       "    }\n",
       "</style>\n",
       "<table border=\"1\" class=\"dataframe\">\n",
       "  <thead>\n",
       "    <tr style=\"text-align: right;\">\n",
       "      <th></th>\n",
       "      <th>school</th>\n",
       "      <th>school_setting</th>\n",
       "      <th>school_type</th>\n",
       "      <th>classroom</th>\n",
       "      <th>teaching_method</th>\n",
       "      <th>n_student</th>\n",
       "      <th>student_id</th>\n",
       "      <th>gender</th>\n",
       "      <th>lunch</th>\n",
       "      <th>pretest</th>\n",
       "      <th>posttest</th>\n",
       "      <th>percent_change</th>\n",
       "    </tr>\n",
       "  </thead>\n",
       "  <tbody>\n",
       "    <tr>\n",
       "      <th>0</th>\n",
       "      <td>ANKYI</td>\n",
       "      <td>Urban</td>\n",
       "      <td>Non-public</td>\n",
       "      <td>6OL</td>\n",
       "      <td>Standard</td>\n",
       "      <td>20.0</td>\n",
       "      <td>2FHT3</td>\n",
       "      <td>Female</td>\n",
       "      <td>Does not qualify</td>\n",
       "      <td>62.0</td>\n",
       "      <td>72.0</td>\n",
       "      <td>13.888889</td>\n",
       "    </tr>\n",
       "    <tr>\n",
       "      <th>1</th>\n",
       "      <td>ANKYI</td>\n",
       "      <td>Urban</td>\n",
       "      <td>Non-public</td>\n",
       "      <td>6OL</td>\n",
       "      <td>Standard</td>\n",
       "      <td>20.0</td>\n",
       "      <td>3JIVH</td>\n",
       "      <td>Female</td>\n",
       "      <td>Does not qualify</td>\n",
       "      <td>66.0</td>\n",
       "      <td>79.0</td>\n",
       "      <td>16.455696</td>\n",
       "    </tr>\n",
       "    <tr>\n",
       "      <th>2</th>\n",
       "      <td>ANKYI</td>\n",
       "      <td>Urban</td>\n",
       "      <td>Non-public</td>\n",
       "      <td>6OL</td>\n",
       "      <td>Standard</td>\n",
       "      <td>20.0</td>\n",
       "      <td>3XOWE</td>\n",
       "      <td>Male</td>\n",
       "      <td>Does not qualify</td>\n",
       "      <td>64.0</td>\n",
       "      <td>76.0</td>\n",
       "      <td>15.789474</td>\n",
       "    </tr>\n",
       "    <tr>\n",
       "      <th>3</th>\n",
       "      <td>ANKYI</td>\n",
       "      <td>Urban</td>\n",
       "      <td>Non-public</td>\n",
       "      <td>6OL</td>\n",
       "      <td>Standard</td>\n",
       "      <td>20.0</td>\n",
       "      <td>556O0</td>\n",
       "      <td>Female</td>\n",
       "      <td>Does not qualify</td>\n",
       "      <td>61.0</td>\n",
       "      <td>77.0</td>\n",
       "      <td>20.779221</td>\n",
       "    </tr>\n",
       "    <tr>\n",
       "      <th>4</th>\n",
       "      <td>ANKYI</td>\n",
       "      <td>Urban</td>\n",
       "      <td>Non-public</td>\n",
       "      <td>6OL</td>\n",
       "      <td>Standard</td>\n",
       "      <td>20.0</td>\n",
       "      <td>74LOE</td>\n",
       "      <td>Male</td>\n",
       "      <td>Does not qualify</td>\n",
       "      <td>64.0</td>\n",
       "      <td>76.0</td>\n",
       "      <td>15.789474</td>\n",
       "    </tr>\n",
       "  </tbody>\n",
       "</table>\n",
       "</div>"
      ],
      "text/plain": [
       "  school school_setting school_type classroom teaching_method  n_student  \\\n",
       "0  ANKYI          Urban  Non-public       6OL        Standard       20.0   \n",
       "1  ANKYI          Urban  Non-public       6OL        Standard       20.0   \n",
       "2  ANKYI          Urban  Non-public       6OL        Standard       20.0   \n",
       "3  ANKYI          Urban  Non-public       6OL        Standard       20.0   \n",
       "4  ANKYI          Urban  Non-public       6OL        Standard       20.0   \n",
       "\n",
       "  student_id  gender             lunch  pretest  posttest  percent_change  \n",
       "0      2FHT3  Female  Does not qualify     62.0      72.0       13.888889  \n",
       "1      3JIVH  Female  Does not qualify     66.0      79.0       16.455696  \n",
       "2      3XOWE    Male  Does not qualify     64.0      76.0       15.789474  \n",
       "3      556O0  Female  Does not qualify     61.0      77.0       20.779221  \n",
       "4      74LOE    Male  Does not qualify     64.0      76.0       15.789474  "
      ]
     },
     "execution_count": 8,
     "metadata": {},
     "output_type": "execute_result"
    }
   ],
   "source": [
    "# Create a column for % change in test scores from pre- to post-test scores\n",
    "test_df[\"percent_change\"] = ((test_df['posttest'] -test_df['pretest'])/test_df['posttest']) *100\n",
    "test_df.head()"
   ]
  },
  {
   "cell_type": "code",
   "execution_count": null,
   "id": "726dba38-ecad-48a1-9c59-a8b0500feefa",
   "metadata": {},
   "outputs": [
    {
     "data": {
      "text/plain": [
       "lunch\n",
       "Does not qualify                    1215\n",
       "Qualifies for reduced/free lunch     918\n",
       "Name: lunch, dtype: int64"
      ]
     },
     "execution_count": 20,
     "metadata": {},
     "output_type": "execute_result"
    }
   ],
   "source": [
    "test_df.groupby('lunch')['lunch'].count()"
   ]
  },
  {
   "cell_type": "code",
   "execution_count": null,
   "id": "f8e6c32c-9336-407b-b6fd-765565dd3f23",
   "metadata": {},
   "outputs": [
    {
     "data": {
      "text/plain": [
       "school_type\n",
       "Non-public     551\n",
       "Public        1582\n",
       "Name: school_type, dtype: int64"
      ]
     },
     "execution_count": 23,
     "metadata": {},
     "output_type": "execute_result"
    }
   ],
   "source": [
    "test_df.groupby('school_type')['school_type'].count()"
   ]
  },
  {
   "cell_type": "code",
   "execution_count": 22,
   "id": "5e2f773f-baef-4a51-b16a-a026a706e43a",
   "metadata": {},
   "outputs": [
    {
     "data": {
      "text/plain": [
       "school_setting\n",
       "Rural       510\n",
       "Suburban    717\n",
       "Urban       906\n",
       "Name: school_setting, dtype: int64"
      ]
     },
     "execution_count": 22,
     "metadata": {},
     "output_type": "execute_result"
    }
   ],
   "source": [
    "test_df.groupby('school_setting')['school_setting'].count()"
   ]
  },
  {
   "cell_type": "code",
   "execution_count": 21,
   "id": "2e295f8e-e636-4c63-814e-83919c6fccae",
   "metadata": {},
   "outputs": [
    {
     "data": {
      "text/plain": [
       "teaching_method\n",
       "Experimental     760\n",
       "Standard        1373\n",
       "Name: teaching_method, dtype: int64"
      ]
     },
     "execution_count": 21,
     "metadata": {},
     "output_type": "execute_result"
    }
   ],
   "source": [
    "test_df.groupby('teaching_method')['teaching_method'].count()"
   ]
  },
  {
   "cell_type": "code",
   "execution_count": 16,
   "id": "229092b5-ac0f-473f-93dc-67303e4e3535",
   "metadata": {},
   "outputs": [
    {
     "data": {
      "text/plain": [
       "count    2133.000000\n",
       "mean       22.796531\n",
       "std         4.228893\n",
       "min        14.000000\n",
       "25%        20.000000\n",
       "50%        22.000000\n",
       "75%        27.000000\n",
       "max        31.000000\n",
       "Name: n_student, dtype: float64"
      ]
     },
     "execution_count": 16,
     "metadata": {},
     "output_type": "execute_result"
    }
   ],
   "source": [
    "test_df['n_student'].describe()"
   ]
  },
  {
   "cell_type": "code",
   "execution_count": 19,
   "id": "6e7a4d7d-0ff1-4a23-8bd0-43cfa3ee2dc3",
   "metadata": {},
   "outputs": [
    {
     "data": {
      "text/plain": [
       "gender\n",
       "Female    1056\n",
       "Male      1077\n",
       "Name: gender, dtype: int64"
      ]
     },
     "execution_count": 19,
     "metadata": {},
     "output_type": "execute_result"
    }
   ],
   "source": [
    "test_df.groupby('gender')['gender'].count()"
   ]
  },
  {
   "cell_type": "code",
   "execution_count": null,
   "id": "6c054b93-573b-4821-a1b9-66640b148f98",
   "metadata": {},
   "outputs": [
    {
     "data": {
      "text/plain": [
       "count    2133.000000\n",
       "mean       54.955931\n",
       "std        13.563101\n",
       "min        22.000000\n",
       "25%        44.000000\n",
       "50%        56.000000\n",
       "75%        65.000000\n",
       "max        93.000000\n",
       "Name: pretest, dtype: float64"
      ]
     },
     "execution_count": 10,
     "metadata": {},
     "output_type": "execute_result"
    }
   ],
   "source": [
    "test_df['pretest'].describe()"
   ]
  },
  {
   "cell_type": "code",
   "execution_count": 11,
   "id": "4cd282a1-7c54-4047-826f-c1d4cc0850b8",
   "metadata": {},
   "outputs": [
    {
     "data": {
      "text/plain": [
       "count    2133.000000\n",
       "mean       67.102203\n",
       "std        13.986789\n",
       "min        32.000000\n",
       "25%        56.000000\n",
       "50%        68.000000\n",
       "75%        77.000000\n",
       "max       100.000000\n",
       "Name: posttest, dtype: float64"
      ]
     },
     "execution_count": 11,
     "metadata": {},
     "output_type": "execute_result"
    }
   ],
   "source": [
    "test_df['posttest'].describe()"
   ]
  },
  {
   "cell_type": "code",
   "execution_count": null,
   "id": "d7e0e5a9-c6f7-4377-8e00-62b866ea000e",
   "metadata": {},
   "outputs": [],
   "source": []
  }
 ],
 "metadata": {
  "kernelspec": {
   "display_name": "mlenv",
   "language": "python",
   "name": "mlenv"
  },
  "language_info": {
   "codemirror_mode": {
    "name": "ipython",
    "version": 3
   },
   "file_extension": ".py",
   "mimetype": "text/x-python",
   "name": "python",
   "nbconvert_exporter": "python",
   "pygments_lexer": "ipython3",
   "version": "3.7.11"
  }
 },
 "nbformat": 4,
 "nbformat_minor": 5
}
