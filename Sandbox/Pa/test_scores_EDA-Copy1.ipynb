{
 "cells": [
  {
   "cell_type": "code",
   "execution_count": 1,
   "id": "887faae2-1587-438e-b62b-2d7fdf122c1e",
   "metadata": {},
   "outputs": [],
   "source": [
    "import pandas as pd\n",
    "from pathlib import Path\n",
    "import matplotlib.pyplot as plt\n",
    "from sklearn.linear_model import LinearRegression"
   ]
  },
  {
   "cell_type": "code",
   "execution_count": 2,
   "id": "133a7568-d68a-4d97-8d21-f4c78ba5992d",
   "metadata": {},
   "outputs": [
    {
     "data": {
      "text/html": [
       "<div>\n",
       "<style scoped>\n",
       "    .dataframe tbody tr th:only-of-type {\n",
       "        vertical-align: middle;\n",
       "    }\n",
       "\n",
       "    .dataframe tbody tr th {\n",
       "        vertical-align: top;\n",
       "    }\n",
       "\n",
       "    .dataframe thead th {\n",
       "        text-align: right;\n",
       "    }\n",
       "</style>\n",
       "<table border=\"1\" class=\"dataframe\">\n",
       "  <thead>\n",
       "    <tr style=\"text-align: right;\">\n",
       "      <th></th>\n",
       "      <th>school</th>\n",
       "      <th>school_setting</th>\n",
       "      <th>school_type</th>\n",
       "      <th>classroom</th>\n",
       "      <th>teaching_method</th>\n",
       "      <th>n_student</th>\n",
       "      <th>student_id</th>\n",
       "      <th>gender</th>\n",
       "      <th>lunch</th>\n",
       "      <th>pretest</th>\n",
       "      <th>posttest</th>\n",
       "    </tr>\n",
       "  </thead>\n",
       "  <tbody>\n",
       "    <tr>\n",
       "      <th>0</th>\n",
       "      <td>ANKYI</td>\n",
       "      <td>Urban</td>\n",
       "      <td>Non-public</td>\n",
       "      <td>6OL</td>\n",
       "      <td>Standard</td>\n",
       "      <td>20.0</td>\n",
       "      <td>2FHT3</td>\n",
       "      <td>Female</td>\n",
       "      <td>Does not qualify</td>\n",
       "      <td>62.0</td>\n",
       "      <td>72.0</td>\n",
       "    </tr>\n",
       "    <tr>\n",
       "      <th>1</th>\n",
       "      <td>ANKYI</td>\n",
       "      <td>Urban</td>\n",
       "      <td>Non-public</td>\n",
       "      <td>6OL</td>\n",
       "      <td>Standard</td>\n",
       "      <td>20.0</td>\n",
       "      <td>3JIVH</td>\n",
       "      <td>Female</td>\n",
       "      <td>Does not qualify</td>\n",
       "      <td>66.0</td>\n",
       "      <td>79.0</td>\n",
       "    </tr>\n",
       "    <tr>\n",
       "      <th>2</th>\n",
       "      <td>ANKYI</td>\n",
       "      <td>Urban</td>\n",
       "      <td>Non-public</td>\n",
       "      <td>6OL</td>\n",
       "      <td>Standard</td>\n",
       "      <td>20.0</td>\n",
       "      <td>3XOWE</td>\n",
       "      <td>Male</td>\n",
       "      <td>Does not qualify</td>\n",
       "      <td>64.0</td>\n",
       "      <td>76.0</td>\n",
       "    </tr>\n",
       "    <tr>\n",
       "      <th>3</th>\n",
       "      <td>ANKYI</td>\n",
       "      <td>Urban</td>\n",
       "      <td>Non-public</td>\n",
       "      <td>6OL</td>\n",
       "      <td>Standard</td>\n",
       "      <td>20.0</td>\n",
       "      <td>556O0</td>\n",
       "      <td>Female</td>\n",
       "      <td>Does not qualify</td>\n",
       "      <td>61.0</td>\n",
       "      <td>77.0</td>\n",
       "    </tr>\n",
       "    <tr>\n",
       "      <th>4</th>\n",
       "      <td>ANKYI</td>\n",
       "      <td>Urban</td>\n",
       "      <td>Non-public</td>\n",
       "      <td>6OL</td>\n",
       "      <td>Standard</td>\n",
       "      <td>20.0</td>\n",
       "      <td>74LOE</td>\n",
       "      <td>Male</td>\n",
       "      <td>Does not qualify</td>\n",
       "      <td>64.0</td>\n",
       "      <td>76.0</td>\n",
       "    </tr>\n",
       "  </tbody>\n",
       "</table>\n",
       "</div>"
      ],
      "text/plain": [
       "  school school_setting school_type classroom teaching_method  n_student  \\\n",
       "0  ANKYI          Urban  Non-public       6OL        Standard       20.0   \n",
       "1  ANKYI          Urban  Non-public       6OL        Standard       20.0   \n",
       "2  ANKYI          Urban  Non-public       6OL        Standard       20.0   \n",
       "3  ANKYI          Urban  Non-public       6OL        Standard       20.0   \n",
       "4  ANKYI          Urban  Non-public       6OL        Standard       20.0   \n",
       "\n",
       "  student_id  gender             lunch  pretest  posttest  \n",
       "0      2FHT3  Female  Does not qualify     62.0      72.0  \n",
       "1      3JIVH  Female  Does not qualify     66.0      79.0  \n",
       "2      3XOWE    Male  Does not qualify     64.0      76.0  \n",
       "3      556O0  Female  Does not qualify     61.0      77.0  \n",
       "4      74LOE    Male  Does not qualify     64.0      76.0  "
      ]
     },
     "execution_count": 2,
     "metadata": {},
     "output_type": "execute_result"
    }
   ],
   "source": [
    "test_df = pd.read_csv('../Sue/test_scores.csv')\n",
    "test_df.head()"
   ]
  },
  {
   "cell_type": "code",
   "execution_count": 6,
   "id": "c10dda5e-381b-4ded-a6e2-10e47bbdbf5c",
   "metadata": {},
   "outputs": [
    {
     "data": {
      "text/html": [
       "<div>\n",
       "<style scoped>\n",
       "    .dataframe tbody tr th:only-of-type {\n",
       "        vertical-align: middle;\n",
       "    }\n",
       "\n",
       "    .dataframe tbody tr th {\n",
       "        vertical-align: top;\n",
       "    }\n",
       "\n",
       "    .dataframe thead th {\n",
       "        text-align: right;\n",
       "    }\n",
       "</style>\n",
       "<table border=\"1\" class=\"dataframe\">\n",
       "  <thead>\n",
       "    <tr style=\"text-align: right;\">\n",
       "      <th></th>\n",
       "      <th>school</th>\n",
       "      <th>school_setting</th>\n",
       "      <th>school_type</th>\n",
       "      <th>classroom</th>\n",
       "      <th>teaching_method</th>\n",
       "      <th>n_student</th>\n",
       "      <th>student_id</th>\n",
       "      <th>gender</th>\n",
       "      <th>lunch</th>\n",
       "      <th>pretest</th>\n",
       "      <th>posttest</th>\n",
       "      <th>percent_change</th>\n",
       "    </tr>\n",
       "  </thead>\n",
       "  <tbody>\n",
       "    <tr>\n",
       "      <th>0</th>\n",
       "      <td>ANKYI</td>\n",
       "      <td>Urban</td>\n",
       "      <td>Non-public</td>\n",
       "      <td>6OL</td>\n",
       "      <td>Standard</td>\n",
       "      <td>20.0</td>\n",
       "      <td>2FHT3</td>\n",
       "      <td>Female</td>\n",
       "      <td>Does not qualify</td>\n",
       "      <td>62.0</td>\n",
       "      <td>72.0</td>\n",
       "      <td>13.888889</td>\n",
       "    </tr>\n",
       "    <tr>\n",
       "      <th>1</th>\n",
       "      <td>ANKYI</td>\n",
       "      <td>Urban</td>\n",
       "      <td>Non-public</td>\n",
       "      <td>6OL</td>\n",
       "      <td>Standard</td>\n",
       "      <td>20.0</td>\n",
       "      <td>3JIVH</td>\n",
       "      <td>Female</td>\n",
       "      <td>Does not qualify</td>\n",
       "      <td>66.0</td>\n",
       "      <td>79.0</td>\n",
       "      <td>16.455696</td>\n",
       "    </tr>\n",
       "    <tr>\n",
       "      <th>2</th>\n",
       "      <td>ANKYI</td>\n",
       "      <td>Urban</td>\n",
       "      <td>Non-public</td>\n",
       "      <td>6OL</td>\n",
       "      <td>Standard</td>\n",
       "      <td>20.0</td>\n",
       "      <td>3XOWE</td>\n",
       "      <td>Male</td>\n",
       "      <td>Does not qualify</td>\n",
       "      <td>64.0</td>\n",
       "      <td>76.0</td>\n",
       "      <td>15.789474</td>\n",
       "    </tr>\n",
       "    <tr>\n",
       "      <th>3</th>\n",
       "      <td>ANKYI</td>\n",
       "      <td>Urban</td>\n",
       "      <td>Non-public</td>\n",
       "      <td>6OL</td>\n",
       "      <td>Standard</td>\n",
       "      <td>20.0</td>\n",
       "      <td>556O0</td>\n",
       "      <td>Female</td>\n",
       "      <td>Does not qualify</td>\n",
       "      <td>61.0</td>\n",
       "      <td>77.0</td>\n",
       "      <td>20.779221</td>\n",
       "    </tr>\n",
       "    <tr>\n",
       "      <th>4</th>\n",
       "      <td>ANKYI</td>\n",
       "      <td>Urban</td>\n",
       "      <td>Non-public</td>\n",
       "      <td>6OL</td>\n",
       "      <td>Standard</td>\n",
       "      <td>20.0</td>\n",
       "      <td>74LOE</td>\n",
       "      <td>Male</td>\n",
       "      <td>Does not qualify</td>\n",
       "      <td>64.0</td>\n",
       "      <td>76.0</td>\n",
       "      <td>15.789474</td>\n",
       "    </tr>\n",
       "    <tr>\n",
       "      <th>...</th>\n",
       "      <td>...</td>\n",
       "      <td>...</td>\n",
       "      <td>...</td>\n",
       "      <td>...</td>\n",
       "      <td>...</td>\n",
       "      <td>...</td>\n",
       "      <td>...</td>\n",
       "      <td>...</td>\n",
       "      <td>...</td>\n",
       "      <td>...</td>\n",
       "      <td>...</td>\n",
       "      <td>...</td>\n",
       "    </tr>\n",
       "    <tr>\n",
       "      <th>2128</th>\n",
       "      <td>ZOWMK</td>\n",
       "      <td>Urban</td>\n",
       "      <td>Public</td>\n",
       "      <td>ZBH</td>\n",
       "      <td>Standard</td>\n",
       "      <td>30.0</td>\n",
       "      <td>T8LSK</td>\n",
       "      <td>Female</td>\n",
       "      <td>Does not qualify</td>\n",
       "      <td>39.0</td>\n",
       "      <td>55.0</td>\n",
       "      <td>29.090909</td>\n",
       "    </tr>\n",
       "    <tr>\n",
       "      <th>2129</th>\n",
       "      <td>ZOWMK</td>\n",
       "      <td>Urban</td>\n",
       "      <td>Public</td>\n",
       "      <td>ZBH</td>\n",
       "      <td>Standard</td>\n",
       "      <td>30.0</td>\n",
       "      <td>VNP26</td>\n",
       "      <td>Female</td>\n",
       "      <td>Qualifies for reduced/free lunch</td>\n",
       "      <td>38.0</td>\n",
       "      <td>46.0</td>\n",
       "      <td>17.391304</td>\n",
       "    </tr>\n",
       "    <tr>\n",
       "      <th>2130</th>\n",
       "      <td>ZOWMK</td>\n",
       "      <td>Urban</td>\n",
       "      <td>Public</td>\n",
       "      <td>ZBH</td>\n",
       "      <td>Standard</td>\n",
       "      <td>30.0</td>\n",
       "      <td>YDR1Z</td>\n",
       "      <td>Female</td>\n",
       "      <td>Qualifies for reduced/free lunch</td>\n",
       "      <td>45.0</td>\n",
       "      <td>51.0</td>\n",
       "      <td>11.764706</td>\n",
       "    </tr>\n",
       "    <tr>\n",
       "      <th>2131</th>\n",
       "      <td>ZOWMK</td>\n",
       "      <td>Urban</td>\n",
       "      <td>Public</td>\n",
       "      <td>ZBH</td>\n",
       "      <td>Standard</td>\n",
       "      <td>30.0</td>\n",
       "      <td>YUEIH</td>\n",
       "      <td>Male</td>\n",
       "      <td>Qualifies for reduced/free lunch</td>\n",
       "      <td>46.0</td>\n",
       "      <td>53.0</td>\n",
       "      <td>13.207547</td>\n",
       "    </tr>\n",
       "    <tr>\n",
       "      <th>2132</th>\n",
       "      <td>ZOWMK</td>\n",
       "      <td>Urban</td>\n",
       "      <td>Public</td>\n",
       "      <td>ZBH</td>\n",
       "      <td>Standard</td>\n",
       "      <td>30.0</td>\n",
       "      <td>ZVCQ8</td>\n",
       "      <td>Male</td>\n",
       "      <td>Qualifies for reduced/free lunch</td>\n",
       "      <td>41.0</td>\n",
       "      <td>48.0</td>\n",
       "      <td>14.583333</td>\n",
       "    </tr>\n",
       "  </tbody>\n",
       "</table>\n",
       "<p>2133 rows × 12 columns</p>\n",
       "</div>"
      ],
      "text/plain": [
       "     school school_setting school_type classroom teaching_method  n_student  \\\n",
       "0     ANKYI          Urban  Non-public       6OL        Standard       20.0   \n",
       "1     ANKYI          Urban  Non-public       6OL        Standard       20.0   \n",
       "2     ANKYI          Urban  Non-public       6OL        Standard       20.0   \n",
       "3     ANKYI          Urban  Non-public       6OL        Standard       20.0   \n",
       "4     ANKYI          Urban  Non-public       6OL        Standard       20.0   \n",
       "...     ...            ...         ...       ...             ...        ...   \n",
       "2128  ZOWMK          Urban      Public       ZBH        Standard       30.0   \n",
       "2129  ZOWMK          Urban      Public       ZBH        Standard       30.0   \n",
       "2130  ZOWMK          Urban      Public       ZBH        Standard       30.0   \n",
       "2131  ZOWMK          Urban      Public       ZBH        Standard       30.0   \n",
       "2132  ZOWMK          Urban      Public       ZBH        Standard       30.0   \n",
       "\n",
       "     student_id  gender                             lunch  pretest  posttest  \\\n",
       "0         2FHT3  Female                  Does not qualify     62.0      72.0   \n",
       "1         3JIVH  Female                  Does not qualify     66.0      79.0   \n",
       "2         3XOWE    Male                  Does not qualify     64.0      76.0   \n",
       "3         556O0  Female                  Does not qualify     61.0      77.0   \n",
       "4         74LOE    Male                  Does not qualify     64.0      76.0   \n",
       "...         ...     ...                               ...      ...       ...   \n",
       "2128      T8LSK  Female                  Does not qualify     39.0      55.0   \n",
       "2129      VNP26  Female  Qualifies for reduced/free lunch     38.0      46.0   \n",
       "2130      YDR1Z  Female  Qualifies for reduced/free lunch     45.0      51.0   \n",
       "2131      YUEIH    Male  Qualifies for reduced/free lunch     46.0      53.0   \n",
       "2132      ZVCQ8    Male  Qualifies for reduced/free lunch     41.0      48.0   \n",
       "\n",
       "      percent_change  \n",
       "0          13.888889  \n",
       "1          16.455696  \n",
       "2          15.789474  \n",
       "3          20.779221  \n",
       "4          15.789474  \n",
       "...              ...  \n",
       "2128       29.090909  \n",
       "2129       17.391304  \n",
       "2130       11.764706  \n",
       "2131       13.207547  \n",
       "2132       14.583333  \n",
       "\n",
       "[2133 rows x 12 columns]"
      ]
     },
     "execution_count": 6,
     "metadata": {},
     "output_type": "execute_result"
    }
   ],
   "source": [
    "# Create a column for % change in test scores from pre- to post-test scores\n",
    "test_df[\"percent_change\"] = ((test_df['posttest'] -test_df['pretest'])/test_df['posttest']) *100\n",
    "test_df"
   ]
  },
  {
   "cell_type": "code",
   "execution_count": 10,
   "id": "2282a1bf",
   "metadata": {},
   "outputs": [
    {
     "ename": "SyntaxError",
     "evalue": "invalid syntax (1019634592.py, line 2)",
     "output_type": "error",
     "traceback": [
      "\u001b[0;36m  File \u001b[0;32m\"/var/folders/b6/pvk4xrmd7lz9cgz0kx2p9sjw0000gn/T/ipykernel_48653/1019634592.py\"\u001b[0;36m, line \u001b[0;32m2\u001b[0m\n\u001b[0;31m    test_df.head()\u001b[0m\n\u001b[0m          ^\u001b[0m\n\u001b[0;31mSyntaxError\u001b[0m\u001b[0;31m:\u001b[0m invalid syntax\n"
     ]
    }
   ],
   "source": [
    "test_df.loc[(test_df[\"percent_change\"] >=1)\n",
    "test_df.head()\n",
    "\n"
   ]
  },
  {
   "cell_type": "markdown",
   "id": "df6c1593",
   "metadata": {},
   "source": [
    "# All School Settings Descriptive Stats"
   ]
  },
  {
   "cell_type": "code",
   "execution_count": 4,
   "id": "726dba38-ecad-48a1-9c59-a8b0500feefa",
   "metadata": {},
   "outputs": [
    {
     "data": {
      "text/plain": [
       "lunch\n",
       "Does not qualify                    1215\n",
       "Qualifies for reduced/free lunch     918\n",
       "Name: lunch, dtype: int64"
      ]
     },
     "execution_count": 4,
     "metadata": {},
     "output_type": "execute_result"
    }
   ],
   "source": [
    "test_df.groupby('lunch')['lunch'].count()"
   ]
  },
  {
   "cell_type": "code",
   "execution_count": 5,
   "id": "f8e6c32c-9336-407b-b6fd-765565dd3f23",
   "metadata": {},
   "outputs": [
    {
     "data": {
      "text/plain": [
       "school_type\n",
       "Non-public     551\n",
       "Public        1582\n",
       "Name: school_type, dtype: int64"
      ]
     },
     "execution_count": 5,
     "metadata": {},
     "output_type": "execute_result"
    }
   ],
   "source": [
    "test_df.groupby('school_type')['school_type'].count()"
   ]
  },
  {
   "cell_type": "code",
   "execution_count": 6,
   "id": "5e2f773f-baef-4a51-b16a-a026a706e43a",
   "metadata": {},
   "outputs": [
    {
     "data": {
      "text/plain": [
       "school_setting\n",
       "Rural       510\n",
       "Suburban    717\n",
       "Urban       906\n",
       "Name: school_setting, dtype: int64"
      ]
     },
     "execution_count": 6,
     "metadata": {},
     "output_type": "execute_result"
    }
   ],
   "source": [
    "test_df.groupby('school_setting')['school_setting'].count()"
   ]
  },
  {
   "cell_type": "code",
   "execution_count": 7,
   "id": "2e295f8e-e636-4c63-814e-83919c6fccae",
   "metadata": {},
   "outputs": [
    {
     "data": {
      "text/plain": [
       "teaching_method\n",
       "Experimental     760\n",
       "Standard        1373\n",
       "Name: teaching_method, dtype: int64"
      ]
     },
     "execution_count": 7,
     "metadata": {},
     "output_type": "execute_result"
    }
   ],
   "source": [
    "test_df.groupby('teaching_method')['teaching_method'].count()"
   ]
  },
  {
   "cell_type": "code",
   "execution_count": 8,
   "id": "229092b5-ac0f-473f-93dc-67303e4e3535",
   "metadata": {},
   "outputs": [
    {
     "data": {
      "text/plain": [
       "count    2133.000000\n",
       "mean       22.796531\n",
       "std         4.228893\n",
       "min        14.000000\n",
       "25%        20.000000\n",
       "50%        22.000000\n",
       "75%        27.000000\n",
       "max        31.000000\n",
       "Name: n_student, dtype: float64"
      ]
     },
     "execution_count": 8,
     "metadata": {},
     "output_type": "execute_result"
    }
   ],
   "source": [
    "test_df['n_student'].describe()"
   ]
  },
  {
   "cell_type": "code",
   "execution_count": 9,
   "id": "6e7a4d7d-0ff1-4a23-8bd0-43cfa3ee2dc3",
   "metadata": {},
   "outputs": [
    {
     "data": {
      "text/plain": [
       "gender\n",
       "Female    1056\n",
       "Male      1077\n",
       "Name: gender, dtype: int64"
      ]
     },
     "execution_count": 9,
     "metadata": {},
     "output_type": "execute_result"
    }
   ],
   "source": [
    "test_df.groupby('gender')['gender'].count()"
   ]
  },
  {
   "cell_type": "code",
   "execution_count": 10,
   "id": "6c054b93-573b-4821-a1b9-66640b148f98",
   "metadata": {},
   "outputs": [
    {
     "data": {
      "text/plain": [
       "count    2133.000000\n",
       "mean       54.955931\n",
       "std        13.563101\n",
       "min        22.000000\n",
       "25%        44.000000\n",
       "50%        56.000000\n",
       "75%        65.000000\n",
       "max        93.000000\n",
       "Name: pretest, dtype: float64"
      ]
     },
     "execution_count": 10,
     "metadata": {},
     "output_type": "execute_result"
    }
   ],
   "source": [
    "test_df['pretest'].describe()"
   ]
  },
  {
   "cell_type": "code",
   "execution_count": 11,
   "id": "4cd282a1-7c54-4047-826f-c1d4cc0850b8",
   "metadata": {},
   "outputs": [
    {
     "data": {
      "text/plain": [
       "count    2133.000000\n",
       "mean       67.102203\n",
       "std        13.986789\n",
       "min        32.000000\n",
       "25%        56.000000\n",
       "50%        68.000000\n",
       "75%        77.000000\n",
       "max       100.000000\n",
       "Name: posttest, dtype: float64"
      ]
     },
     "execution_count": 11,
     "metadata": {},
     "output_type": "execute_result"
    }
   ],
   "source": [
    "test_df['posttest'].describe()"
   ]
  },
  {
   "cell_type": "code",
   "execution_count": 12,
   "id": "32b56bad",
   "metadata": {},
   "outputs": [
    {
     "data": {
      "text/plain": [
       "count    2133.000000\n",
       "mean       18.597928\n",
       "std         7.057679\n",
       "min        -2.777778\n",
       "25%        13.793103\n",
       "50%        17.948718\n",
       "75%        22.807018\n",
       "max        53.191489\n",
       "Name: percent_change, dtype: float64"
      ]
     },
     "execution_count": 12,
     "metadata": {},
     "output_type": "execute_result"
    }
   ],
   "source": [
    "test_df['percent_change'].describe()"
   ]
  },
  {
   "cell_type": "markdown",
   "id": "ef3666d0",
   "metadata": {},
   "source": [
    "# Urban Schools Descriptive Stats"
   ]
  },
  {
   "cell_type": "code",
   "execution_count": 13,
   "id": "d7e0e5a9-c6f7-4377-8e00-62b866ea000e",
   "metadata": {},
   "outputs": [
    {
     "data": {
      "text/html": [
       "<div>\n",
       "<style scoped>\n",
       "    .dataframe tbody tr th:only-of-type {\n",
       "        vertical-align: middle;\n",
       "    }\n",
       "\n",
       "    .dataframe tbody tr th {\n",
       "        vertical-align: top;\n",
       "    }\n",
       "\n",
       "    .dataframe thead th {\n",
       "        text-align: right;\n",
       "    }\n",
       "</style>\n",
       "<table border=\"1\" class=\"dataframe\">\n",
       "  <thead>\n",
       "    <tr style=\"text-align: right;\">\n",
       "      <th></th>\n",
       "      <th>school</th>\n",
       "      <th>school_setting</th>\n",
       "      <th>school_type</th>\n",
       "      <th>classroom</th>\n",
       "      <th>teaching_method</th>\n",
       "      <th>n_student</th>\n",
       "      <th>student_id</th>\n",
       "      <th>gender</th>\n",
       "      <th>lunch</th>\n",
       "      <th>pretest</th>\n",
       "      <th>posttest</th>\n",
       "      <th>percent_change</th>\n",
       "    </tr>\n",
       "  </thead>\n",
       "  <tbody>\n",
       "    <tr>\n",
       "      <th>0</th>\n",
       "      <td>ANKYI</td>\n",
       "      <td>Urban</td>\n",
       "      <td>Non-public</td>\n",
       "      <td>6OL</td>\n",
       "      <td>Standard</td>\n",
       "      <td>20.0</td>\n",
       "      <td>2FHT3</td>\n",
       "      <td>Female</td>\n",
       "      <td>Does not qualify</td>\n",
       "      <td>62.0</td>\n",
       "      <td>72.0</td>\n",
       "      <td>13.888889</td>\n",
       "    </tr>\n",
       "    <tr>\n",
       "      <th>1</th>\n",
       "      <td>ANKYI</td>\n",
       "      <td>Urban</td>\n",
       "      <td>Non-public</td>\n",
       "      <td>6OL</td>\n",
       "      <td>Standard</td>\n",
       "      <td>20.0</td>\n",
       "      <td>3JIVH</td>\n",
       "      <td>Female</td>\n",
       "      <td>Does not qualify</td>\n",
       "      <td>66.0</td>\n",
       "      <td>79.0</td>\n",
       "      <td>16.455696</td>\n",
       "    </tr>\n",
       "    <tr>\n",
       "      <th>2</th>\n",
       "      <td>ANKYI</td>\n",
       "      <td>Urban</td>\n",
       "      <td>Non-public</td>\n",
       "      <td>6OL</td>\n",
       "      <td>Standard</td>\n",
       "      <td>20.0</td>\n",
       "      <td>3XOWE</td>\n",
       "      <td>Male</td>\n",
       "      <td>Does not qualify</td>\n",
       "      <td>64.0</td>\n",
       "      <td>76.0</td>\n",
       "      <td>15.789474</td>\n",
       "    </tr>\n",
       "    <tr>\n",
       "      <th>3</th>\n",
       "      <td>ANKYI</td>\n",
       "      <td>Urban</td>\n",
       "      <td>Non-public</td>\n",
       "      <td>6OL</td>\n",
       "      <td>Standard</td>\n",
       "      <td>20.0</td>\n",
       "      <td>556O0</td>\n",
       "      <td>Female</td>\n",
       "      <td>Does not qualify</td>\n",
       "      <td>61.0</td>\n",
       "      <td>77.0</td>\n",
       "      <td>20.779221</td>\n",
       "    </tr>\n",
       "    <tr>\n",
       "      <th>4</th>\n",
       "      <td>ANKYI</td>\n",
       "      <td>Urban</td>\n",
       "      <td>Non-public</td>\n",
       "      <td>6OL</td>\n",
       "      <td>Standard</td>\n",
       "      <td>20.0</td>\n",
       "      <td>74LOE</td>\n",
       "      <td>Male</td>\n",
       "      <td>Does not qualify</td>\n",
       "      <td>64.0</td>\n",
       "      <td>76.0</td>\n",
       "      <td>15.789474</td>\n",
       "    </tr>\n",
       "    <tr>\n",
       "      <th>...</th>\n",
       "      <td>...</td>\n",
       "      <td>...</td>\n",
       "      <td>...</td>\n",
       "      <td>...</td>\n",
       "      <td>...</td>\n",
       "      <td>...</td>\n",
       "      <td>...</td>\n",
       "      <td>...</td>\n",
       "      <td>...</td>\n",
       "      <td>...</td>\n",
       "      <td>...</td>\n",
       "      <td>...</td>\n",
       "    </tr>\n",
       "    <tr>\n",
       "      <th>2128</th>\n",
       "      <td>ZOWMK</td>\n",
       "      <td>Urban</td>\n",
       "      <td>Public</td>\n",
       "      <td>ZBH</td>\n",
       "      <td>Standard</td>\n",
       "      <td>30.0</td>\n",
       "      <td>T8LSK</td>\n",
       "      <td>Female</td>\n",
       "      <td>Does not qualify</td>\n",
       "      <td>39.0</td>\n",
       "      <td>55.0</td>\n",
       "      <td>29.090909</td>\n",
       "    </tr>\n",
       "    <tr>\n",
       "      <th>2129</th>\n",
       "      <td>ZOWMK</td>\n",
       "      <td>Urban</td>\n",
       "      <td>Public</td>\n",
       "      <td>ZBH</td>\n",
       "      <td>Standard</td>\n",
       "      <td>30.0</td>\n",
       "      <td>VNP26</td>\n",
       "      <td>Female</td>\n",
       "      <td>Qualifies for reduced/free lunch</td>\n",
       "      <td>38.0</td>\n",
       "      <td>46.0</td>\n",
       "      <td>17.391304</td>\n",
       "    </tr>\n",
       "    <tr>\n",
       "      <th>2130</th>\n",
       "      <td>ZOWMK</td>\n",
       "      <td>Urban</td>\n",
       "      <td>Public</td>\n",
       "      <td>ZBH</td>\n",
       "      <td>Standard</td>\n",
       "      <td>30.0</td>\n",
       "      <td>YDR1Z</td>\n",
       "      <td>Female</td>\n",
       "      <td>Qualifies for reduced/free lunch</td>\n",
       "      <td>45.0</td>\n",
       "      <td>51.0</td>\n",
       "      <td>11.764706</td>\n",
       "    </tr>\n",
       "    <tr>\n",
       "      <th>2131</th>\n",
       "      <td>ZOWMK</td>\n",
       "      <td>Urban</td>\n",
       "      <td>Public</td>\n",
       "      <td>ZBH</td>\n",
       "      <td>Standard</td>\n",
       "      <td>30.0</td>\n",
       "      <td>YUEIH</td>\n",
       "      <td>Male</td>\n",
       "      <td>Qualifies for reduced/free lunch</td>\n",
       "      <td>46.0</td>\n",
       "      <td>53.0</td>\n",
       "      <td>13.207547</td>\n",
       "    </tr>\n",
       "    <tr>\n",
       "      <th>2132</th>\n",
       "      <td>ZOWMK</td>\n",
       "      <td>Urban</td>\n",
       "      <td>Public</td>\n",
       "      <td>ZBH</td>\n",
       "      <td>Standard</td>\n",
       "      <td>30.0</td>\n",
       "      <td>ZVCQ8</td>\n",
       "      <td>Male</td>\n",
       "      <td>Qualifies for reduced/free lunch</td>\n",
       "      <td>41.0</td>\n",
       "      <td>48.0</td>\n",
       "      <td>14.583333</td>\n",
       "    </tr>\n",
       "  </tbody>\n",
       "</table>\n",
       "<p>906 rows × 12 columns</p>\n",
       "</div>"
      ],
      "text/plain": [
       "     school school_setting school_type classroom teaching_method  n_student  \\\n",
       "0     ANKYI          Urban  Non-public       6OL        Standard       20.0   \n",
       "1     ANKYI          Urban  Non-public       6OL        Standard       20.0   \n",
       "2     ANKYI          Urban  Non-public       6OL        Standard       20.0   \n",
       "3     ANKYI          Urban  Non-public       6OL        Standard       20.0   \n",
       "4     ANKYI          Urban  Non-public       6OL        Standard       20.0   \n",
       "...     ...            ...         ...       ...             ...        ...   \n",
       "2128  ZOWMK          Urban      Public       ZBH        Standard       30.0   \n",
       "2129  ZOWMK          Urban      Public       ZBH        Standard       30.0   \n",
       "2130  ZOWMK          Urban      Public       ZBH        Standard       30.0   \n",
       "2131  ZOWMK          Urban      Public       ZBH        Standard       30.0   \n",
       "2132  ZOWMK          Urban      Public       ZBH        Standard       30.0   \n",
       "\n",
       "     student_id  gender                             lunch  pretest  posttest  \\\n",
       "0         2FHT3  Female                  Does not qualify     62.0      72.0   \n",
       "1         3JIVH  Female                  Does not qualify     66.0      79.0   \n",
       "2         3XOWE    Male                  Does not qualify     64.0      76.0   \n",
       "3         556O0  Female                  Does not qualify     61.0      77.0   \n",
       "4         74LOE    Male                  Does not qualify     64.0      76.0   \n",
       "...         ...     ...                               ...      ...       ...   \n",
       "2128      T8LSK  Female                  Does not qualify     39.0      55.0   \n",
       "2129      VNP26  Female  Qualifies for reduced/free lunch     38.0      46.0   \n",
       "2130      YDR1Z  Female  Qualifies for reduced/free lunch     45.0      51.0   \n",
       "2131      YUEIH    Male  Qualifies for reduced/free lunch     46.0      53.0   \n",
       "2132      ZVCQ8    Male  Qualifies for reduced/free lunch     41.0      48.0   \n",
       "\n",
       "      percent_change  \n",
       "0          13.888889  \n",
       "1          16.455696  \n",
       "2          15.789474  \n",
       "3          20.779221  \n",
       "4          15.789474  \n",
       "...              ...  \n",
       "2128       29.090909  \n",
       "2129       17.391304  \n",
       "2130       11.764706  \n",
       "2131       13.207547  \n",
       "2132       14.583333  \n",
       "\n",
       "[906 rows x 12 columns]"
      ]
     },
     "execution_count": 13,
     "metadata": {},
     "output_type": "execute_result"
    }
   ],
   "source": [
    "urban_df = test_df.loc[(test_df[\"school_setting\"] == \"Urban\")]\n",
    "urban_df"
   ]
  },
  {
   "cell_type": "code",
   "execution_count": 14,
   "id": "78084096",
   "metadata": {},
   "outputs": [
    {
     "data": {
      "text/plain": [
       "lunch\n",
       "Does not qualify                    474\n",
       "Qualifies for reduced/free lunch    432\n",
       "Name: lunch, dtype: int64"
      ]
     },
     "execution_count": 14,
     "metadata": {},
     "output_type": "execute_result"
    }
   ],
   "source": [
    "urban_df.groupby('lunch')['lunch'].count()"
   ]
  },
  {
   "cell_type": "code",
   "execution_count": 15,
   "id": "231f1334",
   "metadata": {},
   "outputs": [
    {
     "data": {
      "text/plain": [
       "school_type\n",
       "Non-public    261\n",
       "Public        645\n",
       "Name: school_type, dtype: int64"
      ]
     },
     "execution_count": 15,
     "metadata": {},
     "output_type": "execute_result"
    }
   ],
   "source": [
    "urban_df.groupby('school_type')['school_type'].count()"
   ]
  },
  {
   "cell_type": "code",
   "execution_count": 16,
   "id": "2b9c6f27",
   "metadata": {},
   "outputs": [
    {
     "data": {
      "text/plain": [
       "teaching_method\n",
       "Experimental    275\n",
       "Standard        631\n",
       "Name: teaching_method, dtype: int64"
      ]
     },
     "execution_count": 16,
     "metadata": {},
     "output_type": "execute_result"
    }
   ],
   "source": [
    "urban_df.groupby('teaching_method')['teaching_method'].count()"
   ]
  },
  {
   "cell_type": "code",
   "execution_count": 17,
   "id": "89f7cf7d",
   "metadata": {},
   "outputs": [
    {
     "data": {
      "text/plain": [
       "count    906.000000\n",
       "mean      25.242826\n",
       "std        4.099397\n",
       "min       17.000000\n",
       "25%       22.000000\n",
       "50%       26.000000\n",
       "75%       28.000000\n",
       "max       31.000000\n",
       "Name: n_student, dtype: float64"
      ]
     },
     "execution_count": 17,
     "metadata": {},
     "output_type": "execute_result"
    }
   ],
   "source": [
    "urban_df['n_student'].describe()"
   ]
  },
  {
   "cell_type": "code",
   "execution_count": 18,
   "id": "c6a35bdb",
   "metadata": {},
   "outputs": [
    {
     "data": {
      "text/plain": [
       "gender\n",
       "Female    457\n",
       "Male      449\n",
       "Name: gender, dtype: int64"
      ]
     },
     "execution_count": 18,
     "metadata": {},
     "output_type": "execute_result"
    }
   ],
   "source": [
    "urban_df.groupby('gender')['gender'].count()"
   ]
  },
  {
   "cell_type": "code",
   "execution_count": 19,
   "id": "311823e4",
   "metadata": {},
   "outputs": [
    {
     "data": {
      "text/plain": [
       "count    906.000000\n",
       "mean      49.875276\n",
       "std       13.556630\n",
       "min       22.000000\n",
       "25%       39.000000\n",
       "50%       48.000000\n",
       "75%       59.000000\n",
       "max       93.000000\n",
       "Name: pretest, dtype: float64"
      ]
     },
     "execution_count": 19,
     "metadata": {},
     "output_type": "execute_result"
    }
   ],
   "source": [
    "urban_df['pretest'].describe()"
   ]
  },
  {
   "cell_type": "code",
   "execution_count": 20,
   "id": "f0d230c9",
   "metadata": {},
   "outputs": [
    {
     "data": {
      "text/plain": [
       "count    906.000000\n",
       "mean      61.748344\n",
       "std       13.596417\n",
       "min       32.000000\n",
       "25%       51.000000\n",
       "50%       59.000000\n",
       "75%       70.000000\n",
       "max      100.000000\n",
       "Name: posttest, dtype: float64"
      ]
     },
     "execution_count": 20,
     "metadata": {},
     "output_type": "execute_result"
    }
   ],
   "source": [
    "urban_df['posttest'].describe()"
   ]
  },
  {
   "cell_type": "code",
   "execution_count": 21,
   "id": "81484a4f",
   "metadata": {},
   "outputs": [
    {
     "data": {
      "text/plain": [
       "count    906.000000\n",
       "mean      19.862334\n",
       "std        7.971042\n",
       "min        0.000000\n",
       "25%       14.084507\n",
       "50%       18.518519\n",
       "75%       25.000000\n",
       "max       53.191489\n",
       "Name: percent_change, dtype: float64"
      ]
     },
     "execution_count": 21,
     "metadata": {},
     "output_type": "execute_result"
    }
   ],
   "source": [
    "urban_df['percent_change'].describe()"
   ]
  },
  {
   "cell_type": "markdown",
   "id": "98ef0b77",
   "metadata": {},
   "source": [
    "# Suburban Schools Descriptive Stats"
   ]
  },
  {
   "cell_type": "code",
   "execution_count": 22,
   "id": "a1278baa",
   "metadata": {},
   "outputs": [
    {
     "data": {
      "text/html": [
       "<div>\n",
       "<style scoped>\n",
       "    .dataframe tbody tr th:only-of-type {\n",
       "        vertical-align: middle;\n",
       "    }\n",
       "\n",
       "    .dataframe tbody tr th {\n",
       "        vertical-align: top;\n",
       "    }\n",
       "\n",
       "    .dataframe thead th {\n",
       "        text-align: right;\n",
       "    }\n",
       "</style>\n",
       "<table border=\"1\" class=\"dataframe\">\n",
       "  <thead>\n",
       "    <tr style=\"text-align: right;\">\n",
       "      <th></th>\n",
       "      <th>school</th>\n",
       "      <th>school_setting</th>\n",
       "      <th>school_type</th>\n",
       "      <th>classroom</th>\n",
       "      <th>teaching_method</th>\n",
       "      <th>n_student</th>\n",
       "      <th>student_id</th>\n",
       "      <th>gender</th>\n",
       "      <th>lunch</th>\n",
       "      <th>pretest</th>\n",
       "      <th>posttest</th>\n",
       "      <th>percent_change</th>\n",
       "    </tr>\n",
       "  </thead>\n",
       "  <tbody>\n",
       "    <tr>\n",
       "      <th>41</th>\n",
       "      <td>CCAAW</td>\n",
       "      <td>Suburban</td>\n",
       "      <td>Non-public</td>\n",
       "      <td>2B1</td>\n",
       "      <td>Experimental</td>\n",
       "      <td>18.0</td>\n",
       "      <td>1IALS</td>\n",
       "      <td>Female</td>\n",
       "      <td>Does not qualify</td>\n",
       "      <td>61.0</td>\n",
       "      <td>75.0</td>\n",
       "      <td>18.666667</td>\n",
       "    </tr>\n",
       "    <tr>\n",
       "      <th>42</th>\n",
       "      <td>CCAAW</td>\n",
       "      <td>Suburban</td>\n",
       "      <td>Non-public</td>\n",
       "      <td>2B1</td>\n",
       "      <td>Experimental</td>\n",
       "      <td>18.0</td>\n",
       "      <td>5NDXD</td>\n",
       "      <td>Male</td>\n",
       "      <td>Qualifies for reduced/free lunch</td>\n",
       "      <td>58.0</td>\n",
       "      <td>78.0</td>\n",
       "      <td>25.641026</td>\n",
       "    </tr>\n",
       "    <tr>\n",
       "      <th>43</th>\n",
       "      <td>CCAAW</td>\n",
       "      <td>Suburban</td>\n",
       "      <td>Non-public</td>\n",
       "      <td>2B1</td>\n",
       "      <td>Experimental</td>\n",
       "      <td>18.0</td>\n",
       "      <td>6DCTV</td>\n",
       "      <td>Female</td>\n",
       "      <td>Qualifies for reduced/free lunch</td>\n",
       "      <td>64.0</td>\n",
       "      <td>82.0</td>\n",
       "      <td>21.951220</td>\n",
       "    </tr>\n",
       "    <tr>\n",
       "      <th>44</th>\n",
       "      <td>CCAAW</td>\n",
       "      <td>Suburban</td>\n",
       "      <td>Non-public</td>\n",
       "      <td>2B1</td>\n",
       "      <td>Experimental</td>\n",
       "      <td>18.0</td>\n",
       "      <td>6OB0S</td>\n",
       "      <td>Male</td>\n",
       "      <td>Qualifies for reduced/free lunch</td>\n",
       "      <td>58.0</td>\n",
       "      <td>77.0</td>\n",
       "      <td>24.675325</td>\n",
       "    </tr>\n",
       "    <tr>\n",
       "      <th>45</th>\n",
       "      <td>CCAAW</td>\n",
       "      <td>Suburban</td>\n",
       "      <td>Non-public</td>\n",
       "      <td>2B1</td>\n",
       "      <td>Experimental</td>\n",
       "      <td>18.0</td>\n",
       "      <td>AITPY</td>\n",
       "      <td>Male</td>\n",
       "      <td>Does not qualify</td>\n",
       "      <td>65.0</td>\n",
       "      <td>87.0</td>\n",
       "      <td>25.287356</td>\n",
       "    </tr>\n",
       "    <tr>\n",
       "      <th>...</th>\n",
       "      <td>...</td>\n",
       "      <td>...</td>\n",
       "      <td>...</td>\n",
       "      <td>...</td>\n",
       "      <td>...</td>\n",
       "      <td>...</td>\n",
       "      <td>...</td>\n",
       "      <td>...</td>\n",
       "      <td>...</td>\n",
       "      <td>...</td>\n",
       "      <td>...</td>\n",
       "      <td>...</td>\n",
       "    </tr>\n",
       "    <tr>\n",
       "      <th>2011</th>\n",
       "      <td>ZMNYA</td>\n",
       "      <td>Suburban</td>\n",
       "      <td>Public</td>\n",
       "      <td>V77</td>\n",
       "      <td>Experimental</td>\n",
       "      <td>23.0</td>\n",
       "      <td>NZ8Y5</td>\n",
       "      <td>Male</td>\n",
       "      <td>Does not qualify</td>\n",
       "      <td>74.0</td>\n",
       "      <td>84.0</td>\n",
       "      <td>11.904762</td>\n",
       "    </tr>\n",
       "    <tr>\n",
       "      <th>2012</th>\n",
       "      <td>ZMNYA</td>\n",
       "      <td>Suburban</td>\n",
       "      <td>Public</td>\n",
       "      <td>V77</td>\n",
       "      <td>Experimental</td>\n",
       "      <td>23.0</td>\n",
       "      <td>O4C5C</td>\n",
       "      <td>Male</td>\n",
       "      <td>Does not qualify</td>\n",
       "      <td>69.0</td>\n",
       "      <td>86.0</td>\n",
       "      <td>19.767442</td>\n",
       "    </tr>\n",
       "    <tr>\n",
       "      <th>2013</th>\n",
       "      <td>ZMNYA</td>\n",
       "      <td>Suburban</td>\n",
       "      <td>Public</td>\n",
       "      <td>V77</td>\n",
       "      <td>Experimental</td>\n",
       "      <td>23.0</td>\n",
       "      <td>QEVVU</td>\n",
       "      <td>Male</td>\n",
       "      <td>Does not qualify</td>\n",
       "      <td>74.0</td>\n",
       "      <td>90.0</td>\n",
       "      <td>17.777778</td>\n",
       "    </tr>\n",
       "    <tr>\n",
       "      <th>2014</th>\n",
       "      <td>ZMNYA</td>\n",
       "      <td>Suburban</td>\n",
       "      <td>Public</td>\n",
       "      <td>V77</td>\n",
       "      <td>Experimental</td>\n",
       "      <td>23.0</td>\n",
       "      <td>WV4F0</td>\n",
       "      <td>Male</td>\n",
       "      <td>Does not qualify</td>\n",
       "      <td>70.0</td>\n",
       "      <td>87.0</td>\n",
       "      <td>19.540230</td>\n",
       "    </tr>\n",
       "    <tr>\n",
       "      <th>2015</th>\n",
       "      <td>ZMNYA</td>\n",
       "      <td>Suburban</td>\n",
       "      <td>Public</td>\n",
       "      <td>V77</td>\n",
       "      <td>Experimental</td>\n",
       "      <td>23.0</td>\n",
       "      <td>ZT5SN</td>\n",
       "      <td>Male</td>\n",
       "      <td>Does not qualify</td>\n",
       "      <td>76.0</td>\n",
       "      <td>95.0</td>\n",
       "      <td>20.000000</td>\n",
       "    </tr>\n",
       "  </tbody>\n",
       "</table>\n",
       "<p>717 rows × 12 columns</p>\n",
       "</div>"
      ],
      "text/plain": [
       "     school school_setting school_type classroom teaching_method  n_student  \\\n",
       "41    CCAAW       Suburban  Non-public       2B1    Experimental       18.0   \n",
       "42    CCAAW       Suburban  Non-public       2B1    Experimental       18.0   \n",
       "43    CCAAW       Suburban  Non-public       2B1    Experimental       18.0   \n",
       "44    CCAAW       Suburban  Non-public       2B1    Experimental       18.0   \n",
       "45    CCAAW       Suburban  Non-public       2B1    Experimental       18.0   \n",
       "...     ...            ...         ...       ...             ...        ...   \n",
       "2011  ZMNYA       Suburban      Public       V77    Experimental       23.0   \n",
       "2012  ZMNYA       Suburban      Public       V77    Experimental       23.0   \n",
       "2013  ZMNYA       Suburban      Public       V77    Experimental       23.0   \n",
       "2014  ZMNYA       Suburban      Public       V77    Experimental       23.0   \n",
       "2015  ZMNYA       Suburban      Public       V77    Experimental       23.0   \n",
       "\n",
       "     student_id  gender                             lunch  pretest  posttest  \\\n",
       "41        1IALS  Female                  Does not qualify     61.0      75.0   \n",
       "42        5NDXD    Male  Qualifies for reduced/free lunch     58.0      78.0   \n",
       "43        6DCTV  Female  Qualifies for reduced/free lunch     64.0      82.0   \n",
       "44        6OB0S    Male  Qualifies for reduced/free lunch     58.0      77.0   \n",
       "45        AITPY    Male                  Does not qualify     65.0      87.0   \n",
       "...         ...     ...                               ...      ...       ...   \n",
       "2011      NZ8Y5    Male                  Does not qualify     74.0      84.0   \n",
       "2012      O4C5C    Male                  Does not qualify     69.0      86.0   \n",
       "2013      QEVVU    Male                  Does not qualify     74.0      90.0   \n",
       "2014      WV4F0    Male                  Does not qualify     70.0      87.0   \n",
       "2015      ZT5SN    Male                  Does not qualify     76.0      95.0   \n",
       "\n",
       "      percent_change  \n",
       "41         18.666667  \n",
       "42         25.641026  \n",
       "43         21.951220  \n",
       "44         24.675325  \n",
       "45         25.287356  \n",
       "...              ...  \n",
       "2011       11.904762  \n",
       "2012       19.767442  \n",
       "2013       17.777778  \n",
       "2014       19.540230  \n",
       "2015       20.000000  \n",
       "\n",
       "[717 rows x 12 columns]"
      ]
     },
     "execution_count": 22,
     "metadata": {},
     "output_type": "execute_result"
    }
   ],
   "source": [
    "suburban_df = test_df.loc[(test_df[\"school_setting\"] == \"Suburban\")]\n",
    "suburban_df"
   ]
  },
  {
   "cell_type": "code",
   "execution_count": 23,
   "id": "05b40164",
   "metadata": {},
   "outputs": [
    {
     "data": {
      "text/plain": [
       "lunch\n",
       "Does not qualify                    471\n",
       "Qualifies for reduced/free lunch    246\n",
       "Name: lunch, dtype: int64"
      ]
     },
     "execution_count": 23,
     "metadata": {},
     "output_type": "execute_result"
    }
   ],
   "source": [
    "suburban_df.groupby('lunch')['lunch'].count()"
   ]
  },
  {
   "cell_type": "code",
   "execution_count": 24,
   "id": "f88e40ac",
   "metadata": {},
   "outputs": [
    {
     "data": {
      "text/plain": [
       "school_type\n",
       "Non-public    193\n",
       "Public        524\n",
       "Name: school_type, dtype: int64"
      ]
     },
     "execution_count": 24,
     "metadata": {},
     "output_type": "execute_result"
    }
   ],
   "source": [
    "suburban_df.groupby('school_type')['school_type'].count()"
   ]
  },
  {
   "cell_type": "code",
   "execution_count": 25,
   "id": "40f6969f",
   "metadata": {},
   "outputs": [
    {
     "data": {
      "text/plain": [
       "teaching_method\n",
       "Experimental    284\n",
       "Standard        433\n",
       "Name: teaching_method, dtype: int64"
      ]
     },
     "execution_count": 25,
     "metadata": {},
     "output_type": "execute_result"
    }
   ],
   "source": [
    "suburban_df.groupby('teaching_method')['teaching_method'].count()"
   ]
  },
  {
   "cell_type": "code",
   "execution_count": 26,
   "id": "e1a3d0db",
   "metadata": {},
   "outputs": [
    {
     "data": {
      "text/plain": [
       "count    717.000000\n",
       "mean      21.683403\n",
       "std        3.547982\n",
       "min       15.000000\n",
       "25%       20.000000\n",
       "50%       21.000000\n",
       "75%       24.000000\n",
       "max       28.000000\n",
       "Name: n_student, dtype: float64"
      ]
     },
     "execution_count": 26,
     "metadata": {},
     "output_type": "execute_result"
    }
   ],
   "source": [
    "suburban_df['n_student'].describe()"
   ]
  },
  {
   "cell_type": "code",
   "execution_count": 27,
   "id": "380b0991",
   "metadata": {},
   "outputs": [
    {
     "data": {
      "text/plain": [
       "gender\n",
       "Female    369\n",
       "Male      348\n",
       "Name: gender, dtype: int64"
      ]
     },
     "execution_count": 27,
     "metadata": {},
     "output_type": "execute_result"
    }
   ],
   "source": [
    "suburban_df.groupby('gender')['gender'].count()"
   ]
  },
  {
   "cell_type": "code",
   "execution_count": 28,
   "id": "73971ccc",
   "metadata": {},
   "outputs": [
    {
     "data": {
      "text/plain": [
       "count    717.000000\n",
       "mean      63.841004\n",
       "std       10.583789\n",
       "min       36.000000\n",
       "25%       57.000000\n",
       "50%       64.000000\n",
       "75%       71.000000\n",
       "max       91.000000\n",
       "Name: pretest, dtype: float64"
      ]
     },
     "execution_count": 28,
     "metadata": {},
     "output_type": "execute_result"
    }
   ],
   "source": [
    "suburban_df['pretest'].describe()"
   ]
  },
  {
   "cell_type": "code",
   "execution_count": 29,
   "id": "cd7fdd75",
   "metadata": {},
   "outputs": [
    {
     "data": {
      "text/plain": [
       "count    717.000000\n",
       "mean      76.037657\n",
       "std       11.046624\n",
       "min       49.000000\n",
       "25%       68.000000\n",
       "50%       76.000000\n",
       "75%       84.000000\n",
       "max       99.000000\n",
       "Name: posttest, dtype: float64"
      ]
     },
     "execution_count": 29,
     "metadata": {},
     "output_type": "execute_result"
    }
   ],
   "source": [
    "suburban_df['posttest'].describe()"
   ]
  },
  {
   "cell_type": "code",
   "execution_count": 30,
   "id": "ddf36820",
   "metadata": {},
   "outputs": [
    {
     "data": {
      "text/plain": [
       "count    717.000000\n",
       "mean      16.129940\n",
       "std        5.766009\n",
       "min       -2.777778\n",
       "25%       11.940299\n",
       "50%       16.216216\n",
       "75%       20.289855\n",
       "max       36.065574\n",
       "Name: percent_change, dtype: float64"
      ]
     },
     "execution_count": 30,
     "metadata": {},
     "output_type": "execute_result"
    }
   ],
   "source": [
    "suburban_df['percent_change'].describe()"
   ]
  },
  {
   "cell_type": "markdown",
   "id": "f8dcabe0",
   "metadata": {},
   "source": [
    "# Rural Schools Descriptive Stats"
   ]
  },
  {
   "cell_type": "code",
   "execution_count": 31,
   "id": "1e4ab4e3",
   "metadata": {},
   "outputs": [
    {
     "data": {
      "text/html": [
       "<div>\n",
       "<style scoped>\n",
       "    .dataframe tbody tr th:only-of-type {\n",
       "        vertical-align: middle;\n",
       "    }\n",
       "\n",
       "    .dataframe tbody tr th {\n",
       "        vertical-align: top;\n",
       "    }\n",
       "\n",
       "    .dataframe thead th {\n",
       "        text-align: right;\n",
       "    }\n",
       "</style>\n",
       "<table border=\"1\" class=\"dataframe\">\n",
       "  <thead>\n",
       "    <tr style=\"text-align: right;\">\n",
       "      <th></th>\n",
       "      <th>school</th>\n",
       "      <th>school_setting</th>\n",
       "      <th>school_type</th>\n",
       "      <th>classroom</th>\n",
       "      <th>teaching_method</th>\n",
       "      <th>n_student</th>\n",
       "      <th>student_id</th>\n",
       "      <th>gender</th>\n",
       "      <th>lunch</th>\n",
       "      <th>pretest</th>\n",
       "      <th>posttest</th>\n",
       "      <th>percent_change</th>\n",
       "    </tr>\n",
       "  </thead>\n",
       "  <tbody>\n",
       "    <tr>\n",
       "      <th>453</th>\n",
       "      <td>FBUMG</td>\n",
       "      <td>Rural</td>\n",
       "      <td>Non-public</td>\n",
       "      <td>197</td>\n",
       "      <td>Experimental</td>\n",
       "      <td>14.0</td>\n",
       "      <td>25M8Y</td>\n",
       "      <td>Male</td>\n",
       "      <td>Qualifies for reduced/free lunch</td>\n",
       "      <td>53.0</td>\n",
       "      <td>68.0</td>\n",
       "      <td>22.058824</td>\n",
       "    </tr>\n",
       "    <tr>\n",
       "      <th>454</th>\n",
       "      <td>FBUMG</td>\n",
       "      <td>Rural</td>\n",
       "      <td>Non-public</td>\n",
       "      <td>197</td>\n",
       "      <td>Experimental</td>\n",
       "      <td>14.0</td>\n",
       "      <td>3234W</td>\n",
       "      <td>Male</td>\n",
       "      <td>Does not qualify</td>\n",
       "      <td>63.0</td>\n",
       "      <td>78.0</td>\n",
       "      <td>19.230769</td>\n",
       "    </tr>\n",
       "    <tr>\n",
       "      <th>455</th>\n",
       "      <td>FBUMG</td>\n",
       "      <td>Rural</td>\n",
       "      <td>Non-public</td>\n",
       "      <td>197</td>\n",
       "      <td>Experimental</td>\n",
       "      <td>14.0</td>\n",
       "      <td>3431D</td>\n",
       "      <td>Male</td>\n",
       "      <td>Does not qualify</td>\n",
       "      <td>67.0</td>\n",
       "      <td>79.0</td>\n",
       "      <td>15.189873</td>\n",
       "    </tr>\n",
       "    <tr>\n",
       "      <th>456</th>\n",
       "      <td>FBUMG</td>\n",
       "      <td>Rural</td>\n",
       "      <td>Non-public</td>\n",
       "      <td>197</td>\n",
       "      <td>Experimental</td>\n",
       "      <td>14.0</td>\n",
       "      <td>A3RYU</td>\n",
       "      <td>Male</td>\n",
       "      <td>Does not qualify</td>\n",
       "      <td>61.0</td>\n",
       "      <td>76.0</td>\n",
       "      <td>19.736842</td>\n",
       "    </tr>\n",
       "    <tr>\n",
       "      <th>457</th>\n",
       "      <td>FBUMG</td>\n",
       "      <td>Rural</td>\n",
       "      <td>Non-public</td>\n",
       "      <td>197</td>\n",
       "      <td>Experimental</td>\n",
       "      <td>14.0</td>\n",
       "      <td>ARW1X</td>\n",
       "      <td>Male</td>\n",
       "      <td>Does not qualify</td>\n",
       "      <td>57.0</td>\n",
       "      <td>76.0</td>\n",
       "      <td>25.000000</td>\n",
       "    </tr>\n",
       "    <tr>\n",
       "      <th>...</th>\n",
       "      <td>...</td>\n",
       "      <td>...</td>\n",
       "      <td>...</td>\n",
       "      <td>...</td>\n",
       "      <td>...</td>\n",
       "      <td>...</td>\n",
       "      <td>...</td>\n",
       "      <td>...</td>\n",
       "      <td>...</td>\n",
       "      <td>...</td>\n",
       "      <td>...</td>\n",
       "      <td>...</td>\n",
       "    </tr>\n",
       "    <tr>\n",
       "      <th>1828</th>\n",
       "      <td>VKWQH</td>\n",
       "      <td>Rural</td>\n",
       "      <td>Public</td>\n",
       "      <td>IEM</td>\n",
       "      <td>Experimental</td>\n",
       "      <td>22.0</td>\n",
       "      <td>RGPSQ</td>\n",
       "      <td>Female</td>\n",
       "      <td>Does not qualify</td>\n",
       "      <td>44.0</td>\n",
       "      <td>60.0</td>\n",
       "      <td>26.666667</td>\n",
       "    </tr>\n",
       "    <tr>\n",
       "      <th>1829</th>\n",
       "      <td>VKWQH</td>\n",
       "      <td>Rural</td>\n",
       "      <td>Public</td>\n",
       "      <td>IEM</td>\n",
       "      <td>Experimental</td>\n",
       "      <td>22.0</td>\n",
       "      <td>XCWK3</td>\n",
       "      <td>Male</td>\n",
       "      <td>Does not qualify</td>\n",
       "      <td>38.0</td>\n",
       "      <td>52.0</td>\n",
       "      <td>26.923077</td>\n",
       "    </tr>\n",
       "    <tr>\n",
       "      <th>1830</th>\n",
       "      <td>VKWQH</td>\n",
       "      <td>Rural</td>\n",
       "      <td>Public</td>\n",
       "      <td>IEM</td>\n",
       "      <td>Experimental</td>\n",
       "      <td>22.0</td>\n",
       "      <td>YEYXG</td>\n",
       "      <td>Female</td>\n",
       "      <td>Does not qualify</td>\n",
       "      <td>42.0</td>\n",
       "      <td>61.0</td>\n",
       "      <td>31.147541</td>\n",
       "    </tr>\n",
       "    <tr>\n",
       "      <th>1831</th>\n",
       "      <td>VKWQH</td>\n",
       "      <td>Rural</td>\n",
       "      <td>Public</td>\n",
       "      <td>IEM</td>\n",
       "      <td>Experimental</td>\n",
       "      <td>22.0</td>\n",
       "      <td>YGX7N</td>\n",
       "      <td>Female</td>\n",
       "      <td>Does not qualify</td>\n",
       "      <td>42.0</td>\n",
       "      <td>62.0</td>\n",
       "      <td>32.258065</td>\n",
       "    </tr>\n",
       "    <tr>\n",
       "      <th>1832</th>\n",
       "      <td>VKWQH</td>\n",
       "      <td>Rural</td>\n",
       "      <td>Public</td>\n",
       "      <td>IEM</td>\n",
       "      <td>Experimental</td>\n",
       "      <td>22.0</td>\n",
       "      <td>YZJEF</td>\n",
       "      <td>Female</td>\n",
       "      <td>Does not qualify</td>\n",
       "      <td>46.0</td>\n",
       "      <td>57.0</td>\n",
       "      <td>19.298246</td>\n",
       "    </tr>\n",
       "  </tbody>\n",
       "</table>\n",
       "<p>510 rows × 12 columns</p>\n",
       "</div>"
      ],
      "text/plain": [
       "     school school_setting school_type classroom teaching_method  n_student  \\\n",
       "453   FBUMG          Rural  Non-public       197    Experimental       14.0   \n",
       "454   FBUMG          Rural  Non-public       197    Experimental       14.0   \n",
       "455   FBUMG          Rural  Non-public       197    Experimental       14.0   \n",
       "456   FBUMG          Rural  Non-public       197    Experimental       14.0   \n",
       "457   FBUMG          Rural  Non-public       197    Experimental       14.0   \n",
       "...     ...            ...         ...       ...             ...        ...   \n",
       "1828  VKWQH          Rural      Public       IEM    Experimental       22.0   \n",
       "1829  VKWQH          Rural      Public       IEM    Experimental       22.0   \n",
       "1830  VKWQH          Rural      Public       IEM    Experimental       22.0   \n",
       "1831  VKWQH          Rural      Public       IEM    Experimental       22.0   \n",
       "1832  VKWQH          Rural      Public       IEM    Experimental       22.0   \n",
       "\n",
       "     student_id  gender                             lunch  pretest  posttest  \\\n",
       "453       25M8Y    Male  Qualifies for reduced/free lunch     53.0      68.0   \n",
       "454       3234W    Male                  Does not qualify     63.0      78.0   \n",
       "455       3431D    Male                  Does not qualify     67.0      79.0   \n",
       "456       A3RYU    Male                  Does not qualify     61.0      76.0   \n",
       "457       ARW1X    Male                  Does not qualify     57.0      76.0   \n",
       "...         ...     ...                               ...      ...       ...   \n",
       "1828      RGPSQ  Female                  Does not qualify     44.0      60.0   \n",
       "1829      XCWK3    Male                  Does not qualify     38.0      52.0   \n",
       "1830      YEYXG  Female                  Does not qualify     42.0      61.0   \n",
       "1831      YGX7N  Female                  Does not qualify     42.0      62.0   \n",
       "1832      YZJEF  Female                  Does not qualify     46.0      57.0   \n",
       "\n",
       "      percent_change  \n",
       "453        22.058824  \n",
       "454        19.230769  \n",
       "455        15.189873  \n",
       "456        19.736842  \n",
       "457        25.000000  \n",
       "...              ...  \n",
       "1828       26.666667  \n",
       "1829       26.923077  \n",
       "1830       31.147541  \n",
       "1831       32.258065  \n",
       "1832       19.298246  \n",
       "\n",
       "[510 rows x 12 columns]"
      ]
     },
     "execution_count": 31,
     "metadata": {},
     "output_type": "execute_result"
    }
   ],
   "source": [
    "rural_df = test_df.loc[(test_df[\"school_setting\"] == \"Rural\")]\n",
    "rural_df"
   ]
  },
  {
   "cell_type": "code",
   "execution_count": 32,
   "id": "e2ef82c3",
   "metadata": {},
   "outputs": [
    {
     "data": {
      "text/plain": [
       "lunch\n",
       "Does not qualify                    270\n",
       "Qualifies for reduced/free lunch    240\n",
       "Name: lunch, dtype: int64"
      ]
     },
     "execution_count": 32,
     "metadata": {},
     "output_type": "execute_result"
    }
   ],
   "source": [
    "rural_df.groupby('lunch')['lunch'].count()"
   ]
  },
  {
   "cell_type": "code",
   "execution_count": 33,
   "id": "e2a50e6a",
   "metadata": {},
   "outputs": [
    {
     "data": {
      "text/plain": [
       "school_type\n",
       "Non-public     97\n",
       "Public        413\n",
       "Name: school_type, dtype: int64"
      ]
     },
     "execution_count": 33,
     "metadata": {},
     "output_type": "execute_result"
    }
   ],
   "source": [
    "rural_df.groupby('school_type')['school_type'].count()"
   ]
  },
  {
   "cell_type": "code",
   "execution_count": 34,
   "id": "07916eac",
   "metadata": {},
   "outputs": [
    {
     "data": {
      "text/plain": [
       "teaching_method\n",
       "Experimental    201\n",
       "Standard        309\n",
       "Name: teaching_method, dtype: int64"
      ]
     },
     "execution_count": 34,
     "metadata": {},
     "output_type": "execute_result"
    }
   ],
   "source": [
    "rural_df.groupby('teaching_method')['teaching_method'].count()"
   ]
  },
  {
   "cell_type": "code",
   "execution_count": 35,
   "id": "a3d1d7b5",
   "metadata": {},
   "outputs": [
    {
     "data": {
      "text/plain": [
       "count    510.000000\n",
       "mean      20.015686\n",
       "std        2.678546\n",
       "min       14.000000\n",
       "25%       18.000000\n",
       "50%       20.000000\n",
       "75%       22.000000\n",
       "max       24.000000\n",
       "Name: n_student, dtype: float64"
      ]
     },
     "execution_count": 35,
     "metadata": {},
     "output_type": "execute_result"
    }
   ],
   "source": [
    "rural_df['n_student'].describe()"
   ]
  },
  {
   "cell_type": "code",
   "execution_count": 36,
   "id": "747d4f0e",
   "metadata": {},
   "outputs": [
    {
     "data": {
      "text/plain": [
       "gender\n",
       "Female    230\n",
       "Male      280\n",
       "Name: gender, dtype: int64"
      ]
     },
     "execution_count": 36,
     "metadata": {},
     "output_type": "execute_result"
    }
   ],
   "source": [
    "rural_df.groupby('gender')['gender'].count()"
   ]
  },
  {
   "cell_type": "code",
   "execution_count": 37,
   "id": "6f465e3c",
   "metadata": {},
   "outputs": [
    {
     "data": {
      "text/plain": [
       "count    510.000000\n",
       "mean      51.490196\n",
       "std       10.816876\n",
       "min       26.000000\n",
       "25%       44.000000\n",
       "50%       53.000000\n",
       "75%       60.000000\n",
       "max       73.000000\n",
       "Name: pretest, dtype: float64"
      ]
     },
     "execution_count": 37,
     "metadata": {},
     "output_type": "execute_result"
    }
   ],
   "source": [
    "rural_df['pretest'].describe()"
   ]
  },
  {
   "cell_type": "code",
   "execution_count": 38,
   "id": "b3c275b2",
   "metadata": {},
   "outputs": [
    {
     "data": {
      "text/plain": [
       "count    510.000000\n",
       "mean      64.050980\n",
       "std       12.093827\n",
       "min       36.000000\n",
       "25%       56.000000\n",
       "50%       67.000000\n",
       "75%       73.000000\n",
       "max       88.000000\n",
       "Name: posttest, dtype: float64"
      ]
     },
     "execution_count": 38,
     "metadata": {},
     "output_type": "execute_result"
    }
   ],
   "source": [
    "rural_df['posttest'].describe()"
   ]
  },
  {
   "cell_type": "code",
   "execution_count": 39,
   "id": "cf86387d",
   "metadata": {},
   "outputs": [
    {
     "data": {
      "text/plain": [
       "count    510.000000\n",
       "mean      19.821448\n",
       "std        5.997932\n",
       "min        4.347826\n",
       "25%       15.492958\n",
       "50%       19.642857\n",
       "75%       23.862829\n",
       "max       37.209302\n",
       "Name: percent_change, dtype: float64"
      ]
     },
     "execution_count": 39,
     "metadata": {},
     "output_type": "execute_result"
    }
   ],
   "source": [
    "rural_df['percent_change'].describe()"
   ]
  }
 ],
 "metadata": {
  "kernelspec": {
   "display_name": "mlenv",
   "language": "python",
   "name": "mlenv"
  },
  "language_info": {
   "codemirror_mode": {
    "name": "ipython",
    "version": 3
   },
   "file_extension": ".py",
   "mimetype": "text/x-python",
   "name": "python",
   "nbconvert_exporter": "python",
   "pygments_lexer": "ipython3",
   "version": "3.7.11"
  }
 },
 "nbformat": 4,
 "nbformat_minor": 5
}
